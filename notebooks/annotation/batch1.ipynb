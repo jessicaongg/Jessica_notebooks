{
 "cells": [
  {
   "cell_type": "code",
   "execution_count": 1,
   "id": "b391df05",
   "metadata": {},
   "outputs": [
    {
     "name": "stderr",
     "output_type": "stream",
     "text": [
      "/Users/jessica/mambaforge/envs/scanpy/lib/python3.10/site-packages/tqdm/auto.py:21: TqdmWarning: IProgress not found. Please update jupyter and ipywidgets. See https://ipywidgets.readthedocs.io/en/stable/user_install.html\n",
      "  from .autonotebook import tqdm as notebook_tqdm\n"
     ]
    }
   ],
   "source": [
    "import scanpy as sc\n",
    "import anndata as ad\n",
    "import scanpy.external as sce\n",
    "import pandas as pd\n",
    "import matplotlib.pyplot as plt\n",
    "import scvi\n",
    "import torch\n",
    "\n",
    "sc.settings.figdir = \"/Users/jessica/Documents/GitHub/Jessica_notebooks/figures/batch1/annotation\"\n"
   ]
  },
  {
   "cell_type": "code",
   "execution_count": null,
   "id": "5ec3d068",
   "metadata": {},
   "outputs": [],
   "source": [
    "adata1_c = sc.read(\"/Users/jessica/Documents/GitHub/Jessica_notebooks/data/batch1/clustered1.h5ad\")"
   ]
  }
 ],
 "metadata": {
  "kernelspec": {
   "display_name": "scanpy",
   "language": "python",
   "name": "python3"
  },
  "language_info": {
   "codemirror_mode": {
    "name": "ipython",
    "version": 3
   },
   "file_extension": ".py",
   "mimetype": "text/x-python",
   "name": "python",
   "nbconvert_exporter": "python",
   "pygments_lexer": "ipython3",
   "version": "3.10.18"
  }
 },
 "nbformat": 4,
 "nbformat_minor": 5
}
